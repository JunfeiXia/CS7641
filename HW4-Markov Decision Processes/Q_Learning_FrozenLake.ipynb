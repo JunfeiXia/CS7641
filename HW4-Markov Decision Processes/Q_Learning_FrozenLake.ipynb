{
 "cells": [
  {
   "cell_type": "code",
   "execution_count": 1,
   "metadata": {
    "pycharm": {
     "is_executing": false
    }
   },
   "outputs": [],
   "source": [
    "import gym\n",
    "import numpy as np\n",
    "import random\n",
    "from timeit import default_timer as timer\n",
    "from datetime import timedelta\n",
    "import matplotlib.pylab as plt\n",
    "import pandas as pd\n",
    "import seaborn as sns"
   ]
  },
  {
   "cell_type": "code",
   "execution_count": 2,
   "metadata": {},
   "outputs": [],
   "source": [
    "from gym.envs.toy_text.frozen_lake import generate_random_map, FrozenLakeEnv\n",
    "np.random.seed(44)\n",
    "sixteen = generate_random_map(16)\n",
    "np.random.seed(44)\n",
    "tvelve = generate_random_map(12)\n",
    "MAPS = {\n",
    "    \"4x4\": [\n",
    "        \"SFFF\",\n",
    "        \"FHFH\",\n",
    "        \"FFFH\",\n",
    "        \"HFFG\"\n",
    "    ],\n",
    "    \"8x8\": [\n",
    "        \"SFFFFFFF\",\n",
    "        \"FFFFFFFF\",\n",
    "        \"FFFHFFFF\",\n",
    "        \"FFFFFHFF\",\n",
    "        \"FFFHFFFF\",\n",
    "        \"FHHFFFHF\",\n",
    "        \"FHFFHFHF\",\n",
    "        \"FFFHFFFG\"\n",
    "    ],\n",
    "    \"12x12\": tvelve,\n",
    "    \"16x16\": sixteen\n",
    "}"
   ]
  },
  {
   "cell_type": "code",
   "execution_count": 3,
   "metadata": {},
   "outputs": [],
   "source": [
    "def test_policy(env, policy, n_epoch=1000):\n",
    "    rewards = []\n",
    "    episode_counts = []\n",
    "    for i in range(n_epoch):\n",
    "        current_state = env.reset()\n",
    "        current_state = current_state[0]\n",
    "        ep = 0\n",
    "        done = False\n",
    "        episode_reward = 0\n",
    "        while not done and ep < 10000:\n",
    "            ep += 1\n",
    "            act = int(policy[current_state])\n",
    "            new_state, reward, t, done, _ = env.step(act)\n",
    "            episode_reward += reward\n",
    "            current_state = new_state\n",
    "        rewards.append(episode_reward)\n",
    "        episode_counts.append(ep)\n",
    "    \n",
    "    # all done\n",
    "    mean_reward = sum(rewards)/len(rewards)\n",
    "    mean_eps = sum(episode_counts)/len(episode_counts)\n",
    "    return mean_reward, mean_eps, rewards, episode_counts "
   ]
  },
  {
   "cell_type": "code",
   "execution_count": 4,
   "metadata": {},
   "outputs": [],
   "source": [
    "def q_learning(env, discount=0.9, total_episodes=1e5, alpha=0.1, decay_rate=None,\n",
    "               min_epsilon=0.01):\n",
    "    \n",
    "    start = timer()\n",
    "    \n",
    "    number_of_states = env.observation_space.n\n",
    "    number_of_actions = env.action_space.n\n",
    "    \n",
    "    qtable = np.zeros((number_of_states, number_of_actions))\n",
    "    learning_rate = alpha\n",
    "    gamma = discount\n",
    "\n",
    "    # exploration parameter\n",
    "    epsilon = 1.0\n",
    "    max_epsilon = 1.0\n",
    "    min_epsilon = 0.01\n",
    "    \n",
    "    if not decay_rate:\n",
    "        decay_rate = 1./total_episodes\n",
    "    \n",
    "    rewards = []\n",
    "    for episode in range(int(total_episodes)):\n",
    "        # reset the environment\n",
    "        state = env.reset()\n",
    "        state = state[0]\n",
    "        step = 0\n",
    "        done = False\n",
    "        total_reward = 0\n",
    "        while True:\n",
    "\n",
    "            # choose an action a in the corrent world state\n",
    "            exp_exp_tradeoff = random.uniform(0,1)\n",
    "\n",
    "            # if greater than epsilon --> exploit\n",
    "            if exp_exp_tradeoff > epsilon:\n",
    "                b = qtable[state, :]\n",
    "                action = np.random.choice(np.where(b == b.max())[0])\n",
    "#                 action = np.argmax(qtable[state, :])\n",
    "            # else choose exploration\n",
    "            else:\n",
    "                action = env.action_space.sample()\n",
    "\n",
    "            # take action (a) and observe the outcome state (s') and reward (r)    \n",
    "            new_state, reward, t, done, info = env.step(action)\n",
    "            total_reward += reward\n",
    "            # update Q(s,a) := Q(s,a) + lr [R(s,a) + gamma * max(Q (s', a') - Q(s,a))]\n",
    "            if not done:\n",
    "                qtable[state, action] = qtable[state, action] + learning_rate*(reward + gamma*np.max(qtable[new_state, :]) - qtable[state, action])\n",
    "            else:\n",
    "                qtable[state, action] = qtable[state,action] + learning_rate*(reward - qtable[state,action])\n",
    "\n",
    "            # change state\n",
    "            state = new_state\n",
    "\n",
    "            # is it Done\n",
    "            if done:\n",
    "                break\n",
    "                \n",
    "        # reduce epsilon \n",
    "        rewards.append(total_reward)\n",
    "        epsilon = max(max_epsilon -  decay_rate * episode, min_epsilon) \n",
    "    #     print (epsilon)\n",
    "    \n",
    "    end = timer()\n",
    "    time_spent = timedelta(seconds=end-start)\n",
    "    print(\"Solved in: {} episodes and {} seconds\".format(total_episodes, time_spent))\n",
    "    return np.argmax(qtable, axis=1), total_episodes, time_spent, qtable, rewards"
   ]
  },
  {
   "cell_type": "code",
   "execution_count": 5,
   "metadata": {},
   "outputs": [],
   "source": [
    "def train_and_test_q_learning(env, discount=[0.9], total_episodes=[1e5], alphas=[0.1], decay_rates=[0.01], mute=False):\n",
    "    \n",
    "    min_epsilon = 0.01\n",
    "    \n",
    "    q_dict = {}\n",
    "    for dis in discount:\n",
    "        q_dict[dis] = {}\n",
    "        for eps in total_episodes:\n",
    "            q_dict[dis][eps] = {}\n",
    "            for alpha in alphas:\n",
    "                q_dict[dis][eps][alpha] = {}\n",
    "                for dr in decay_rates:\n",
    "                    q_dict[dis][eps][alpha][dr] = {}\n",
    "                    \n",
    "                    # run q_learning\n",
    "                    q_policy, q_solve_iter, q_solve_time, q_table, rewards = q_learning(env, dis, eps, alpha, dr, min_epsilon)\n",
    "                    q_mrews, q_meps, _, __ = test_policy(env, q_policy)\n",
    "                    q_dict[dis][eps][alpha][dr][\"mean_reward\"] = q_mrews\n",
    "                    q_dict[dis][eps][alpha][dr][\"mean_eps\"] = q_meps\n",
    "                    q_dict[dis][eps][alpha][dr][\"q-table\"] = q_table\n",
    "                    q_dict[dis][eps][alpha][dr][\"rewards\"] = rewards \n",
    "                    q_dict[dis][eps][alpha][dr][\"iteration\"] = q_solve_iter\n",
    "                    q_dict[dis][eps][alpha][dr][\"time_spent\"] = q_solve_time\n",
    "                    q_dict[dis][eps][alpha][dr][\"policy\"] = q_policy\n",
    "                    if not mute:\n",
    "                        print(\"gamma: {} total_eps: {} lr: {}, dr: {}\".format(dis, eps, alpha, dr))\n",
    "                        print(\"Iteration: {} time: {}\".format(q_solve_iter, q_solve_time))\n",
    "                        print(\"Mean reward: {} - mean eps: {}\".format(q_mrews, q_meps))\n",
    "    return q_dict"
   ]
  },
  {
   "cell_type": "code",
   "execution_count": 6,
   "metadata": {},
   "outputs": [],
   "source": [
    "def map_discretize(the_map):\n",
    "    size = len(the_map)\n",
    "    dis_map = np.zeros((size,size))\n",
    "    for i, row in enumerate(the_map):\n",
    "        for j, loc in enumerate(row):\n",
    "            if loc == \"S\":\n",
    "                dis_map[i, j] = 0\n",
    "            elif loc == \"F\":\n",
    "                dis_map[i, j] = 0\n",
    "            elif loc == \"H\":\n",
    "                dis_map[i, j] = -1\n",
    "            elif loc == \"G\":\n",
    "                dis_map[i, j] = 1\n",
    "    return dis_map\n",
    "\n",
    "\n",
    "def policy_numpy(policy):\n",
    "    size = int(np.sqrt(len(policy)))\n",
    "    pol = np.asarray(policy)\n",
    "    pol = pol.reshape((size, size))\n",
    "    return pol\n",
    "\n",
    "\n",
    "def see_policy(map_size, policy):\n",
    "    map_name = str(map_size)+\"x\"+str(map_size)\n",
    "    data = map_discretize(MAPS[map_name])\n",
    "    np_pol = policy_numpy(policy)\n",
    "    plt.imshow(data, interpolation=\"nearest\")\n",
    "\n",
    "    for i in range(np_pol[0].size):\n",
    "        for j in range(np_pol[0].size):\n",
    "            arrow = '\\u2190'\n",
    "            if np_pol[i, j] == 1:\n",
    "                arrow = '\\u2193'\n",
    "            elif np_pol[i, j] == 2:\n",
    "                arrow = '\\u2192'\n",
    "            elif np_pol[i, j] == 3:\n",
    "                arrow = '\\u2191'\n",
    "            text = plt.text(j, i, arrow,\n",
    "                           ha=\"center\", va=\"center\", color=\"w\")\n",
    "    plt.xticks([])\n",
    "    plt.yticks([])\n",
    "    plt.show()\n"
   ]
  },
  {
   "cell_type": "code",
   "execution_count": 7,
   "metadata": {},
   "outputs": [],
   "source": [
    "def dict_to_df(the_dict):\n",
    "    the_df = pd.DataFrame(columns=[\"Discount Rate\", \"Training Episodes\", \"Learning Rate\", \n",
    "                                   \"Decay Rate\", \"Reward\", \"Time Spent\"])\n",
    "    for dis in the_dict:\n",
    "        for eps in the_dict[dis]:\n",
    "            for lr in the_dict[dis][eps]:\n",
    "                for dr in the_dict[dis][eps][lr]:\n",
    "                    rew = the_dict[dis][eps][lr][dr][\"mean_reward\"]\n",
    "                    time_spent = the_dict[dis][eps][lr][dr][\"time_spent\"].total_seconds()\n",
    "                    dic = {\"Discount Rate\": dis, \"Training Episodes\": eps, \"Learning Rate\":lr, \n",
    "                           \"Decay Rate\":dr, \"Reward\": rew, \"Time Spent\": time_spent}\n",
    "                    the_df = the_df.append(dic, ignore_index=True)\n",
    "    return the_df"
   ]
  },
  {
   "cell_type": "code",
   "execution_count": 8,
   "metadata": {},
   "outputs": [],
   "source": [
    "import numpy as np\n",
    "def running_mean(x, N):\n",
    "    cumsum = np.cumsum(np.insert(x, 0, 0)) \n",
    "    return (cumsum[N:] - cumsum[:-N]) / float(N)"
   ]
  },
  {
   "cell_type": "code",
   "execution_count": 9,
   "metadata": {},
   "outputs": [
    {
     "name": "stdout",
     "output_type": "stream",
     "text": [
      "Solved in: 10000.0 episodes and 0:00:18.992516 seconds\n",
      "gamma: 0.75 total_eps: 10000.0 lr: 0.01, dr: 1e-06\n",
      "Iteration: 10000.0 time: 0:00:18.992516\n",
      "Mean reward: 0.213 - mean eps: 100.0\n",
      "Solved in: 10000.0 episodes and 0:00:19.262271 seconds\n",
      "gamma: 0.75 total_eps: 10000.0 lr: 0.1, dr: 1e-06\n",
      "Iteration: 10000.0 time: 0:00:19.262271\n",
      "Mean reward: 0.13 - mean eps: 100.0\n",
      "Solved in: 100000.0 episodes and 0:03:17.398656 seconds\n",
      "gamma: 0.75 total_eps: 100000.0 lr: 0.01, dr: 1e-06\n",
      "Iteration: 100000.0 time: 0:03:17.398656\n",
      "Mean reward: 0.263 - mean eps: 100.0\n",
      "Solved in: 100000.0 episodes and 0:03:17.532159 seconds\n",
      "gamma: 0.75 total_eps: 100000.0 lr: 0.1, dr: 1e-06\n",
      "Iteration: 100000.0 time: 0:03:17.532159\n",
      "Mean reward: 0.096 - mean eps: 100.0\n",
      "Solved in: 1000000.0 episodes and 0:39:48.317223 seconds\n",
      "gamma: 0.75 total_eps: 1000000.0 lr: 0.01, dr: 1e-06\n",
      "Iteration: 1000000.0 time: 0:39:48.317223\n",
      "Mean reward: 0.378 - mean eps: 100.0\n",
      "Solved in: 1000000.0 episodes and 0:40:33.190542 seconds\n",
      "gamma: 0.75 total_eps: 1000000.0 lr: 0.1, dr: 1e-06\n",
      "Iteration: 1000000.0 time: 0:40:33.190542\n",
      "Mean reward: 0.252 - mean eps: 100.0\n",
      "Solved in: 10000.0 episodes and 0:00:19.981357 seconds\n",
      "gamma: 0.9 total_eps: 10000.0 lr: 0.01, dr: 1e-06\n",
      "Iteration: 10000.0 time: 0:00:19.981357\n",
      "Mean reward: 0.191 - mean eps: 100.0\n",
      "Solved in: 10000.0 episodes and 0:00:20.044667 seconds\n",
      "gamma: 0.9 total_eps: 10000.0 lr: 0.1, dr: 1e-06\n",
      "Iteration: 10000.0 time: 0:00:20.044667\n",
      "Mean reward: 0.632 - mean eps: 100.0\n",
      "Solved in: 100000.0 episodes and 0:03:26.165855 seconds\n",
      "gamma: 0.9 total_eps: 100000.0 lr: 0.01, dr: 1e-06\n",
      "Iteration: 100000.0 time: 0:03:26.165855\n",
      "Mean reward: 0.717 - mean eps: 100.0\n",
      "Solved in: 100000.0 episodes and 0:03:25.474513 seconds\n",
      "gamma: 0.9 total_eps: 100000.0 lr: 0.1, dr: 1e-06\n",
      "Iteration: 100000.0 time: 0:03:25.474513\n",
      "Mean reward: 0.298 - mean eps: 100.0\n",
      "Solved in: 1000000.0 episodes and 0:40:17.064910 seconds\n",
      "gamma: 0.9 total_eps: 1000000.0 lr: 0.01, dr: 1e-06\n",
      "Iteration: 1000000.0 time: 0:40:17.064910\n",
      "Mean reward: 0.506 - mean eps: 100.0\n",
      "Solved in: 1000000.0 episodes and 0:40:28.339820 seconds\n",
      "gamma: 0.9 total_eps: 1000000.0 lr: 0.1, dr: 1e-06\n",
      "Iteration: 1000000.0 time: 0:40:28.339820\n",
      "Mean reward: 0.463 - mean eps: 100.0\n",
      "Solved in: 10000.0 episodes and 0:00:20.015151 seconds\n",
      "gamma: 0.99 total_eps: 10000.0 lr: 0.01, dr: 1e-06\n",
      "Iteration: 10000.0 time: 0:00:20.015151\n",
      "Mean reward: 0.344 - mean eps: 100.0\n",
      "Solved in: 10000.0 episodes and 0:00:19.877279 seconds\n",
      "gamma: 0.99 total_eps: 10000.0 lr: 0.1, dr: 1e-06\n",
      "Iteration: 10000.0 time: 0:00:19.877279\n",
      "Mean reward: 0.658 - mean eps: 100.0\n",
      "Solved in: 100000.0 episodes and 0:03:25.990109 seconds\n",
      "gamma: 0.99 total_eps: 100000.0 lr: 0.01, dr: 1e-06\n",
      "Iteration: 100000.0 time: 0:03:25.990109\n",
      "Mean reward: 0.734 - mean eps: 100.0\n",
      "Solved in: 100000.0 episodes and 0:03:25.833203 seconds\n",
      "gamma: 0.99 total_eps: 100000.0 lr: 0.1, dr: 1e-06\n",
      "Iteration: 100000.0 time: 0:03:25.833203\n",
      "Mean reward: 0.739 - mean eps: 100.0\n",
      "Solved in: 1000000.0 episodes and 0:40:07.016828 seconds\n",
      "gamma: 0.99 total_eps: 1000000.0 lr: 0.01, dr: 1e-06\n",
      "Iteration: 1000000.0 time: 0:40:07.016828\n",
      "Mean reward: 0.731 - mean eps: 100.0\n",
      "Solved in: 1000000.0 episodes and 0:40:10.741789 seconds\n",
      "gamma: 0.99 total_eps: 1000000.0 lr: 0.1, dr: 1e-06\n",
      "Iteration: 1000000.0 time: 0:40:10.741789\n",
      "Mean reward: 0.707 - mean eps: 100.0\n",
      "Solved in: 10000.0 episodes and 0:00:19.955440 seconds\n",
      "gamma: 0.9999 total_eps: 10000.0 lr: 0.01, dr: 1e-06\n",
      "Iteration: 10000.0 time: 0:00:19.955440\n",
      "Mean reward: 0.624 - mean eps: 100.0\n",
      "Solved in: 10000.0 episodes and 0:00:19.859009 seconds\n",
      "gamma: 0.9999 total_eps: 10000.0 lr: 0.1, dr: 1e-06\n",
      "Iteration: 10000.0 time: 0:00:19.859009\n",
      "Mean reward: 0.764 - mean eps: 100.0\n",
      "Solved in: 100000.0 episodes and 0:03:24.243491 seconds\n",
      "gamma: 0.9999 total_eps: 100000.0 lr: 0.01, dr: 1e-06\n",
      "Iteration: 100000.0 time: 0:03:24.243491\n",
      "Mean reward: 0.771 - mean eps: 100.0\n",
      "Solved in: 100000.0 episodes and 0:03:25.051821 seconds\n",
      "gamma: 0.9999 total_eps: 100000.0 lr: 0.1, dr: 1e-06\n",
      "Iteration: 100000.0 time: 0:03:25.051821\n",
      "Mean reward: 0.736 - mean eps: 100.0\n",
      "Solved in: 1000000.0 episodes and 0:40:32.679856 seconds\n",
      "gamma: 0.9999 total_eps: 1000000.0 lr: 0.01, dr: 1e-06\n",
      "Iteration: 1000000.0 time: 0:40:32.679856\n",
      "Mean reward: 0.746 - mean eps: 100.0\n",
      "Solved in: 1000000.0 episodes and 0:40:07.524643 seconds\n",
      "gamma: 0.9999 total_eps: 1000000.0 lr: 0.1, dr: 1e-06\n",
      "Iteration: 1000000.0 time: 0:40:07.524643\n",
      "Mean reward: 0.748 - mean eps: 100.0\n"
     ]
    }
   ],
   "source": [
    "env = gym.make('FrozenLake-v1')\n",
    "episodes = [1e4, 1e5, 1e6]\n",
    "decays = [1e-6]\n",
    "\n",
    "q_dict = train_and_test_q_learning(env, discount=[0.75, 0.9, 0.99, 0.9999], total_episodes=episodes,\n",
    "                          alphas=[0.01, 0.1], decay_rates=decays)"
   ]
  },
  {
   "cell_type": "code",
   "execution_count": 10,
   "metadata": {},
   "outputs": [
    {
     "data": {
      "image/png": "[encoded data removed]",
      "text/plain": [
       "<Figure size 432x288 with 1 Axes>"
      ]
     },
     "metadata": {},
     "output_type": "display_data"
    }
   ],
   "source": [
    "pol = q_dict[0.99][int(1e6)][0.1][1e-06]['policy']\n",
    "see_policy(4, pol)"
   ]
  },
  {
   "cell_type": "code",
   "execution_count": 11,
   "metadata": {},
   "outputs": [
    {
     "name": "stdout",
     "output_type": "stream",
     "text": [
      "Solved in: 10000.0 episodes and 0:00:26.868586 seconds\n",
      "gamma: 0.9999 total_eps: 10000.0 lr: 0.1, dr: 0.001\n",
      "Iteration: 10000.0 time: 0:00:26.868586\n",
      "Mean reward: 0.757 - mean eps: 100.0\n",
      "Solved in: 10000.0 episodes and 0:00:20.682084 seconds\n",
      "gamma: 0.9999 total_eps: 10000.0 lr: 0.1, dr: 1e-05\n",
      "Iteration: 10000.0 time: 0:00:20.682084\n",
      "Mean reward: 0.711 - mean eps: 100.0\n",
      "Solved in: 10000.0 episodes and 0:00:26.881977 seconds\n",
      "gamma: 0.9999 total_eps: 10000.0 lr: 0.01, dr: 0.001\n",
      "Iteration: 10000.0 time: 0:00:26.881977\n",
      "Mean reward: 0.036 - mean eps: 100.0\n",
      "Solved in: 10000.0 episodes and 0:00:20.692186 seconds\n",
      "gamma: 0.9999 total_eps: 10000.0 lr: 0.01, dr: 1e-05\n",
      "Iteration: 10000.0 time: 0:00:20.692186\n",
      "Mean reward: 0.713 - mean eps: 100.0\n",
      "Solved in: 100000.0 episodes and 0:04:33.763946 seconds\n",
      "gamma: 0.9999 total_eps: 100000.0 lr: 0.1, dr: 0.001\n",
      "Iteration: 100000.0 time: 0:04:33.763946\n",
      "Mean reward: 0.755 - mean eps: 100.0\n",
      "Solved in: 100000.0 episodes and 0:04:05.859684 seconds\n",
      "gamma: 0.9999 total_eps: 100000.0 lr: 0.1, dr: 1e-05\n",
      "Iteration: 100000.0 time: 0:04:05.859684\n",
      "Mean reward: 0.727 - mean eps: 100.0\n",
      "Solved in: 100000.0 episodes and 0:04:34.382788 seconds\n",
      "gamma: 0.9999 total_eps: 100000.0 lr: 0.01, dr: 0.001\n",
      "Iteration: 100000.0 time: 0:04:34.382788\n",
      "Mean reward: 0.625 - mean eps: 100.0\n",
      "Solved in: 100000.0 episodes and 0:04:04.602803 seconds\n",
      "gamma: 0.9999 total_eps: 100000.0 lr: 0.01, dr: 1e-05\n",
      "Iteration: 100000.0 time: 0:04:04.602803\n",
      "Mean reward: 0.528 - mean eps: 100.0\n",
      "Solved in: 1000000.0 episodes and 0:45:52.463497 seconds\n",
      "gamma: 0.9999 total_eps: 1000000.0 lr: 0.1, dr: 0.001\n",
      "Iteration: 1000000.0 time: 0:45:52.463497\n",
      "Mean reward: 0.705 - mean eps: 100.0\n",
      "Solved in: 1000000.0 episodes and 0:45:32.987179 seconds\n",
      "gamma: 0.9999 total_eps: 1000000.0 lr: 0.1, dr: 1e-05\n",
      "Iteration: 1000000.0 time: 0:45:32.987179\n",
      "Mean reward: 0.726 - mean eps: 100.0\n",
      "Solved in: 1000000.0 episodes and 0:45:14.278880 seconds\n",
      "gamma: 0.9999 total_eps: 1000000.0 lr: 0.01, dr: 0.001\n",
      "Iteration: 1000000.0 time: 0:45:14.278880\n",
      "Mean reward: 0.725 - mean eps: 100.0\n",
      "Solved in: 1000000.0 episodes and 0:45:32.805755 seconds\n",
      "gamma: 0.9999 total_eps: 1000000.0 lr: 0.01, dr: 1e-05\n",
      "Iteration: 1000000.0 time: 0:45:32.805755\n",
      "Mean reward: 0.748 - mean eps: 100.0\n"
     ]
    }
   ],
   "source": [
    "episodes = [1e4, 1e5, 1e6]\n",
    "decays = [1e-3, 1e-5]\n",
    "q_dict = train_and_test_q_learning(env, discount= [0.9999], total_episodes=episodes,\n",
    "                          alphas=[0.1, 0.01], decay_rates=decays)"
   ]
  },
  {
   "cell_type": "code",
   "execution_count": 16,
   "metadata": {},
   "outputs": [
    {
     "data": {
      "text/plain": [
       "Text(0, 0.5, 'Reward')"
      ]
     },
     "execution_count": 16,
     "metadata": {},
     "output_type": "execute_result"
    },
    {
     "data": {
      "image/png": "[encoded data removed]",
      "text/plain": [
       "<Figure size 432x288 with 1 Axes>"
      ]
     },
     "metadata": {
      "needs_background": "light"
     },
     "output_type": "display_data"
    }
   ],
   "source": [
    "rews = q_dict[0.9999][int(1e6)][0.1][1e-03]['rewards']\n",
    "run = 1000\n",
    "rew_running = running_mean(rews, run)\n",
    "indices = [i+run for i in list(range(len(rew_running)))]\n",
    "np.log10(indices)\n",
    "# sns.lineplot(np.log10(indices), rew_running，x=\"log10(n of runs)\", y=\"Reward\")\n",
    "plt.plot(np.log10(indices), rew_running)\n",
    "plt.xlabel('log10(n of runs)')\n",
    "plt.ylabel('Reward')"
   ]
  },
  {
   "cell_type": "code",
   "execution_count": null,
   "metadata": {},
   "outputs": [],
   "source": []
  },
  {
   "cell_type": "code",
   "execution_count": 17,
   "metadata": {},
   "outputs": [
    {
     "data": {
      "text/plain": [
       "Text(0, 0.5, 'Reward')"
      ]
     },
     "execution_count": 17,
     "metadata": {},
     "output_type": "execute_result"
    },
    {
     "data": {
      "image/png": "[encoded data removed]",
      "text/plain": [
       "<Figure size 432x288 with 1 Axes>"
      ]
     },
     "metadata": {
      "needs_background": "light"
     },
     "output_type": "display_data"
    }
   ],
   "source": [
    "rews = q_dict[0.9999][int(1e6)][0.01][1e-03]['rewards']\n",
    "run = 1000\n",
    "rew_running = running_mean(rews, run)\n",
    "indices = [i+run for i in list(range(len(rew_running)))]\n",
    "# sns.lineplot(np.log10(indices), rew_running，x=\"log10(n of runs)\", y=\"Reward\")\n",
    "plt.plot(np.log10(indices), rew_running)\n",
    "plt.xlabel('log10(n of runs)')\n",
    "plt.ylabel('Reward')"
   ]
  },
  {
   "cell_type": "code",
   "execution_count": 18,
   "metadata": {},
   "outputs": [
    {
     "data": {
      "text/plain": [
       "Text(0, 0.5, 'Reward')"
      ]
     },
     "execution_count": 18,
     "metadata": {},
     "output_type": "execute_result"
    },
    {
     "data": {
      "image/png": "[encoded data removed]",
      "text/plain": [
       "<Figure size 432x288 with 1 Axes>"
      ]
     },
     "metadata": {
      "needs_background": "light"
     },
     "output_type": "display_data"
    }
   ],
   "source": [
    "rews = q_dict[0.9999][int(1e6)][0.01][1e-05]['rewards']\n",
    "run = 1000\n",
    "rew_running = running_mean(rews, run)\n",
    "indices = [i+run for i in list(range(len(rew_running)))]\n",
    "# sns.lineplot(np.log10(indices), rew_running，x=\"log10(n of runs)\", y=\"Reward\")\n",
    "plt.plot(np.log10(indices), rew_running)\n",
    "plt.xlabel('log10(n of runs)')\n",
    "plt.ylabel('Reward')"
   ]
  },
  {
   "cell_type": "code",
   "execution_count": 19,
   "metadata": {},
   "outputs": [
    {
     "data": {
      "image/png": "[encoded data removed]",
      "text/plain": [
       "<Figure size 864x576 with 1 Axes>"
      ]
     },
     "metadata": {
      "needs_background": "light"
     },
     "output_type": "display_data"
    }
   ],
   "source": [
    "q4 = dict_to_df(q_dict)\n",
    "# plt.figure(figsize=(12, 8))\n",
    "pl = sns.lineplot(x=\"Training Episodes\", y=\"Reward\", data=q4)\n",
    "pl.figure.set_figwidth(12)\n",
    "pl.figure.set_figheight(8)"
   ]
  },
  {
   "cell_type": "code",
   "execution_count": 20,
   "metadata": {},
   "outputs": [
    {
     "data": {
      "text/html": [
       "<div>\n",
       "<style scoped>\n",
       "    .dataframe tbody tr th:only-of-type {\n",
       "        vertical-align: middle;\n",
       "    }\n",
       "\n",
       "    .dataframe tbody tr th {\n",
       "        vertical-align: top;\n",
       "    }\n",
       "\n",
       "    .dataframe thead th {\n",
       "        text-align: right;\n",
       "    }\n",
       "</style>\n",
       "<table border=\"1\" class=\"dataframe\">\n",
       "  <thead>\n",
       "    <tr style=\"text-align: right;\">\n",
       "      <th></th>\n",
       "      <th>Discount Rate</th>\n",
       "      <th>Training Episodes</th>\n",
       "      <th>Learning Rate</th>\n",
       "      <th>Decay Rate</th>\n",
       "      <th>Reward</th>\n",
       "      <th>Time Spent</th>\n",
       "    </tr>\n",
       "  </thead>\n",
       "  <tbody>\n",
       "    <tr>\n",
       "      <th>0</th>\n",
       "      <td>0.9999</td>\n",
       "      <td>10000.0</td>\n",
       "      <td>0.10</td>\n",
       "      <td>0.00100</td>\n",
       "      <td>0.757</td>\n",
       "      <td>26.868586</td>\n",
       "    </tr>\n",
       "    <tr>\n",
       "      <th>1</th>\n",
       "      <td>0.9999</td>\n",
       "      <td>10000.0</td>\n",
       "      <td>0.10</td>\n",
       "      <td>0.00001</td>\n",
       "      <td>0.711</td>\n",
       "      <td>20.682084</td>\n",
       "    </tr>\n",
       "    <tr>\n",
       "      <th>2</th>\n",
       "      <td>0.9999</td>\n",
       "      <td>10000.0</td>\n",
       "      <td>0.01</td>\n",
       "      <td>0.00100</td>\n",
       "      <td>0.036</td>\n",
       "      <td>26.881977</td>\n",
       "    </tr>\n",
       "    <tr>\n",
       "      <th>3</th>\n",
       "      <td>0.9999</td>\n",
       "      <td>10000.0</td>\n",
       "      <td>0.01</td>\n",
       "      <td>0.00001</td>\n",
       "      <td>0.713</td>\n",
       "      <td>20.692186</td>\n",
       "    </tr>\n",
       "    <tr>\n",
       "      <th>4</th>\n",
       "      <td>0.9999</td>\n",
       "      <td>100000.0</td>\n",
       "      <td>0.10</td>\n",
       "      <td>0.00100</td>\n",
       "      <td>0.755</td>\n",
       "      <td>273.763946</td>\n",
       "    </tr>\n",
       "    <tr>\n",
       "      <th>5</th>\n",
       "      <td>0.9999</td>\n",
       "      <td>100000.0</td>\n",
       "      <td>0.10</td>\n",
       "      <td>0.00001</td>\n",
       "      <td>0.727</td>\n",
       "      <td>245.859684</td>\n",
       "    </tr>\n",
       "    <tr>\n",
       "      <th>6</th>\n",
       "      <td>0.9999</td>\n",
       "      <td>100000.0</td>\n",
       "      <td>0.01</td>\n",
       "      <td>0.00100</td>\n",
       "      <td>0.625</td>\n",
       "      <td>274.382788</td>\n",
       "    </tr>\n",
       "    <tr>\n",
       "      <th>7</th>\n",
       "      <td>0.9999</td>\n",
       "      <td>100000.0</td>\n",
       "      <td>0.01</td>\n",
       "      <td>0.00001</td>\n",
       "      <td>0.528</td>\n",
       "      <td>244.602803</td>\n",
       "    </tr>\n",
       "    <tr>\n",
       "      <th>8</th>\n",
       "      <td>0.9999</td>\n",
       "      <td>1000000.0</td>\n",
       "      <td>0.10</td>\n",
       "      <td>0.00100</td>\n",
       "      <td>0.705</td>\n",
       "      <td>2752.463497</td>\n",
       "    </tr>\n",
       "    <tr>\n",
       "      <th>9</th>\n",
       "      <td>0.9999</td>\n",
       "      <td>1000000.0</td>\n",
       "      <td>0.10</td>\n",
       "      <td>0.00001</td>\n",
       "      <td>0.726</td>\n",
       "      <td>2732.987179</td>\n",
       "    </tr>\n",
       "    <tr>\n",
       "      <th>10</th>\n",
       "      <td>0.9999</td>\n",
       "      <td>1000000.0</td>\n",
       "      <td>0.01</td>\n",
       "      <td>0.00100</td>\n",
       "      <td>0.725</td>\n",
       "      <td>2714.278880</td>\n",
       "    </tr>\n",
       "    <tr>\n",
       "      <th>11</th>\n",
       "      <td>0.9999</td>\n",
       "      <td>1000000.0</td>\n",
       "      <td>0.01</td>\n",
       "      <td>0.00001</td>\n",
       "      <td>0.748</td>\n",
       "      <td>2732.805755</td>\n",
       "    </tr>\n",
       "  </tbody>\n",
       "</table>\n",
       "</div>"
      ],
      "text/plain": [
       "    Discount Rate  Training Episodes  Learning Rate  Decay Rate  Reward  \\\n",
       "0          0.9999            10000.0           0.10     0.00100   0.757   \n",
       "1          0.9999            10000.0           0.10     0.00001   0.711   \n",
       "2          0.9999            10000.0           0.01     0.00100   0.036   \n",
       "3          0.9999            10000.0           0.01     0.00001   0.713   \n",
       "4          0.9999           100000.0           0.10     0.00100   0.755   \n",
       "5          0.9999           100000.0           0.10     0.00001   0.727   \n",
       "6          0.9999           100000.0           0.01     0.00100   0.625   \n",
       "7          0.9999           100000.0           0.01     0.00001   0.528   \n",
       "8          0.9999          1000000.0           0.10     0.00100   0.705   \n",
       "9          0.9999          1000000.0           0.10     0.00001   0.726   \n",
       "10         0.9999          1000000.0           0.01     0.00100   0.725   \n",
       "11         0.9999          1000000.0           0.01     0.00001   0.748   \n",
       "\n",
       "     Time Spent  \n",
       "0     26.868586  \n",
       "1     20.682084  \n",
       "2     26.881977  \n",
       "3     20.692186  \n",
       "4    273.763946  \n",
       "5    245.859684  \n",
       "6    274.382788  \n",
       "7    244.602803  \n",
       "8   2752.463497  \n",
       "9   2732.987179  \n",
       "10  2714.278880  \n",
       "11  2732.805755  "
      ]
     },
     "execution_count": 20,
     "metadata": {},
     "output_type": "execute_result"
    }
   ],
   "source": [
    "q4"
   ]
  },
  {
   "cell_type": "code",
   "execution_count": 21,
   "metadata": {},
   "outputs": [
    {
     "data": {
      "image/png": "[encoded data removed]",
      "text/plain": [
       "<Figure size 432x288 with 1 Axes>"
      ]
     },
     "metadata": {},
     "output_type": "display_data"
    }
   ],
   "source": [
    "pol = q_dict[0.9999][int(1e6)][0.01][1e-03]['policy']\n",
    "see_policy(4, pol)"
   ]
  },
  {
   "cell_type": "markdown",
   "metadata": {},
   "source": [
    "## 16x16"
   ]
  },
  {
   "cell_type": "code",
   "execution_count": 22,
   "metadata": {},
   "outputs": [
    {
     "ename": "KeyboardInterrupt",
     "evalue": "",
     "output_type": "error",
     "traceback": [
      "\u001b[1;31m---------------------------------------------------------------------------\u001b[0m",
      "\u001b[1;31mKeyboardInterrupt\u001b[0m                         Traceback (most recent call last)",
      "\u001b[1;32m<ipython-input-22-1428ff954bd7>\u001b[0m in \u001b[0;36m<module>\u001b[1;34m\u001b[0m\n\u001b[0;32m      2\u001b[0m \u001b[0mepisodes\u001b[0m \u001b[1;33m=\u001b[0m \u001b[1;33m[\u001b[0m\u001b[1;36m1e4\u001b[0m\u001b[1;33m,\u001b[0m \u001b[1;36m1e5\u001b[0m\u001b[1;33m,\u001b[0m \u001b[1;36m1e6\u001b[0m\u001b[1;33m]\u001b[0m\u001b[1;33m\u001b[0m\u001b[1;33m\u001b[0m\u001b[0m\n\u001b[0;32m      3\u001b[0m \u001b[0mdecays\u001b[0m \u001b[1;33m=\u001b[0m \u001b[1;33m[\u001b[0m\u001b[1;36m1e-3\u001b[0m\u001b[1;33m,\u001b[0m \u001b[1;36m1e-5\u001b[0m\u001b[1;33m]\u001b[0m\u001b[1;33m\u001b[0m\u001b[1;33m\u001b[0m\u001b[0m\n\u001b[1;32m----> 4\u001b[1;33m q_dict16 = train_and_test_q_learning(env, discount= [0.9999], total_episodes=episodes,\n\u001b[0m\u001b[0;32m      5\u001b[0m                           alphas=[0.1, 0.01], decay_rates=decays)\n",
      "\u001b[1;32m<ipython-input-5-bb61a0c4f8ca>\u001b[0m in \u001b[0;36mtrain_and_test_q_learning\u001b[1;34m(env, discount, total_episodes, alphas, decay_rates, mute)\u001b[0m\n\u001b[0;32m     14\u001b[0m \u001b[1;33m\u001b[0m\u001b[0m\n\u001b[0;32m     15\u001b[0m                     \u001b[1;31m# run q_learning\u001b[0m\u001b[1;33m\u001b[0m\u001b[1;33m\u001b[0m\u001b[1;33m\u001b[0m\u001b[0m\n\u001b[1;32m---> 16\u001b[1;33m                     \u001b[0mq_policy\u001b[0m\u001b[1;33m,\u001b[0m \u001b[0mq_solve_iter\u001b[0m\u001b[1;33m,\u001b[0m \u001b[0mq_solve_time\u001b[0m\u001b[1;33m,\u001b[0m \u001b[0mq_table\u001b[0m\u001b[1;33m,\u001b[0m \u001b[0mrewards\u001b[0m \u001b[1;33m=\u001b[0m \u001b[0mq_learning\u001b[0m\u001b[1;33m(\u001b[0m\u001b[0menv\u001b[0m\u001b[1;33m,\u001b[0m \u001b[0mdis\u001b[0m\u001b[1;33m,\u001b[0m \u001b[0meps\u001b[0m\u001b[1;33m,\u001b[0m \u001b[0malpha\u001b[0m\u001b[1;33m,\u001b[0m \u001b[0mdr\u001b[0m\u001b[1;33m,\u001b[0m \u001b[0mmin_epsilon\u001b[0m\u001b[1;33m)\u001b[0m\u001b[1;33m\u001b[0m\u001b[1;33m\u001b[0m\u001b[0m\n\u001b[0m\u001b[0;32m     17\u001b[0m                     \u001b[0mq_mrews\u001b[0m\u001b[1;33m,\u001b[0m \u001b[0mq_meps\u001b[0m\u001b[1;33m,\u001b[0m \u001b[0m_\u001b[0m\u001b[1;33m,\u001b[0m \u001b[0m__\u001b[0m \u001b[1;33m=\u001b[0m \u001b[0mtest_policy\u001b[0m\u001b[1;33m(\u001b[0m\u001b[0menv\u001b[0m\u001b[1;33m,\u001b[0m \u001b[0mq_policy\u001b[0m\u001b[1;33m)\u001b[0m\u001b[1;33m\u001b[0m\u001b[1;33m\u001b[0m\u001b[0m\n\u001b[0;32m     18\u001b[0m                     \u001b[0mq_dict\u001b[0m\u001b[1;33m[\u001b[0m\u001b[0mdis\u001b[0m\u001b[1;33m]\u001b[0m\u001b[1;33m[\u001b[0m\u001b[0meps\u001b[0m\u001b[1;33m]\u001b[0m\u001b[1;33m[\u001b[0m\u001b[0malpha\u001b[0m\u001b[1;33m]\u001b[0m\u001b[1;33m[\u001b[0m\u001b[0mdr\u001b[0m\u001b[1;33m]\u001b[0m\u001b[1;33m[\u001b[0m\u001b[1;34m\"mean_reward\"\u001b[0m\u001b[1;33m]\u001b[0m \u001b[1;33m=\u001b[0m \u001b[0mq_mrews\u001b[0m\u001b[1;33m\u001b[0m\u001b[1;33m\u001b[0m\u001b[0m\n",
      "\u001b[1;32m<ipython-input-4-f22d1bcf801c>\u001b[0m in \u001b[0;36mq_learning\u001b[1;34m(env, discount, total_episodes, alpha, decay_rate, min_epsilon)\u001b[0m\n\u001b[0;32m     46\u001b[0m             \u001b[1;31m# update Q(s,a) := Q(s,a) + lr [R(s,a) + gamma * max(Q (s', a') - Q(s,a))]\u001b[0m\u001b[1;33m\u001b[0m\u001b[1;33m\u001b[0m\u001b[1;33m\u001b[0m\u001b[0m\n\u001b[0;32m     47\u001b[0m             \u001b[1;32mif\u001b[0m \u001b[1;32mnot\u001b[0m \u001b[0mdone\u001b[0m\u001b[1;33m:\u001b[0m\u001b[1;33m\u001b[0m\u001b[1;33m\u001b[0m\u001b[0m\n\u001b[1;32m---> 48\u001b[1;33m                 \u001b[0mqtable\u001b[0m\u001b[1;33m[\u001b[0m\u001b[0mstate\u001b[0m\u001b[1;33m,\u001b[0m \u001b[0maction\u001b[0m\u001b[1;33m]\u001b[0m \u001b[1;33m=\u001b[0m \u001b[0mqtable\u001b[0m\u001b[1;33m[\u001b[0m\u001b[0mstate\u001b[0m\u001b[1;33m,\u001b[0m \u001b[0maction\u001b[0m\u001b[1;33m]\u001b[0m \u001b[1;33m+\u001b[0m \u001b[0mlearning_rate\u001b[0m\u001b[1;33m*\u001b[0m\u001b[1;33m(\u001b[0m\u001b[0mreward\u001b[0m \u001b[1;33m+\u001b[0m \u001b[0mgamma\u001b[0m\u001b[1;33m*\u001b[0m\u001b[0mnp\u001b[0m\u001b[1;33m.\u001b[0m\u001b[0mmax\u001b[0m\u001b[1;33m(\u001b[0m\u001b[0mqtable\u001b[0m\u001b[1;33m[\u001b[0m\u001b[0mnew_state\u001b[0m\u001b[1;33m,\u001b[0m \u001b[1;33m:\u001b[0m\u001b[1;33m]\u001b[0m\u001b[1;33m)\u001b[0m \u001b[1;33m-\u001b[0m \u001b[0mqtable\u001b[0m\u001b[1;33m[\u001b[0m\u001b[0mstate\u001b[0m\u001b[1;33m,\u001b[0m \u001b[0maction\u001b[0m\u001b[1;33m]\u001b[0m\u001b[1;33m)\u001b[0m\u001b[1;33m\u001b[0m\u001b[1;33m\u001b[0m\u001b[0m\n\u001b[0m\u001b[0;32m     49\u001b[0m             \u001b[1;32melse\u001b[0m\u001b[1;33m:\u001b[0m\u001b[1;33m\u001b[0m\u001b[1;33m\u001b[0m\u001b[0m\n\u001b[0;32m     50\u001b[0m                 \u001b[0mqtable\u001b[0m\u001b[1;33m[\u001b[0m\u001b[0mstate\u001b[0m\u001b[1;33m,\u001b[0m \u001b[0maction\u001b[0m\u001b[1;33m]\u001b[0m \u001b[1;33m=\u001b[0m \u001b[0mqtable\u001b[0m\u001b[1;33m[\u001b[0m\u001b[0mstate\u001b[0m\u001b[1;33m,\u001b[0m\u001b[0maction\u001b[0m\u001b[1;33m]\u001b[0m \u001b[1;33m+\u001b[0m \u001b[0mlearning_rate\u001b[0m\u001b[1;33m*\u001b[0m\u001b[1;33m(\u001b[0m\u001b[0mreward\u001b[0m \u001b[1;33m-\u001b[0m \u001b[0mqtable\u001b[0m\u001b[1;33m[\u001b[0m\u001b[0mstate\u001b[0m\u001b[1;33m,\u001b[0m\u001b[0maction\u001b[0m\u001b[1;33m]\u001b[0m\u001b[1;33m)\u001b[0m\u001b[1;33m\u001b[0m\u001b[1;33m\u001b[0m\u001b[0m\n",
      "\u001b[1;32m<__array_function__ internals>\u001b[0m in \u001b[0;36mamax\u001b[1;34m(*args, **kwargs)\u001b[0m\n",
      "\u001b[1;32mD:\\Users\\samxj\\anaconda3\\lib\\site-packages\\numpy\\core\\fromnumeric.py\u001b[0m in \u001b[0;36mamax\u001b[1;34m(a, axis, out, keepdims, initial, where)\u001b[0m\n\u001b[0;32m   2703\u001b[0m     \u001b[1;36m5\u001b[0m\u001b[1;33m\u001b[0m\u001b[1;33m\u001b[0m\u001b[0m\n\u001b[0;32m   2704\u001b[0m     \"\"\"\n\u001b[1;32m-> 2705\u001b[1;33m     return _wrapreduction(a, np.maximum, 'max', axis, None, out,\n\u001b[0m\u001b[0;32m   2706\u001b[0m                           keepdims=keepdims, initial=initial, where=where)\n\u001b[0;32m   2707\u001b[0m \u001b[1;33m\u001b[0m\u001b[0m\n",
      "\u001b[1;32mD:\\Users\\samxj\\anaconda3\\lib\\site-packages\\numpy\\core\\fromnumeric.py\u001b[0m in \u001b[0;36m_wrapreduction\u001b[1;34m(obj, ufunc, method, axis, dtype, out, **kwargs)\u001b[0m\n\u001b[0;32m     85\u001b[0m                 \u001b[1;32mreturn\u001b[0m \u001b[0mreduction\u001b[0m\u001b[1;33m(\u001b[0m\u001b[0maxis\u001b[0m\u001b[1;33m=\u001b[0m\u001b[0maxis\u001b[0m\u001b[1;33m,\u001b[0m \u001b[0mout\u001b[0m\u001b[1;33m=\u001b[0m\u001b[0mout\u001b[0m\u001b[1;33m,\u001b[0m \u001b[1;33m**\u001b[0m\u001b[0mpasskwargs\u001b[0m\u001b[1;33m)\u001b[0m\u001b[1;33m\u001b[0m\u001b[1;33m\u001b[0m\u001b[0m\n\u001b[0;32m     86\u001b[0m \u001b[1;33m\u001b[0m\u001b[0m\n\u001b[1;32m---> 87\u001b[1;33m     \u001b[1;32mreturn\u001b[0m \u001b[0mufunc\u001b[0m\u001b[1;33m.\u001b[0m\u001b[0mreduce\u001b[0m\u001b[1;33m(\u001b[0m\u001b[0mobj\u001b[0m\u001b[1;33m,\u001b[0m \u001b[0maxis\u001b[0m\u001b[1;33m,\u001b[0m \u001b[0mdtype\u001b[0m\u001b[1;33m,\u001b[0m \u001b[0mout\u001b[0m\u001b[1;33m,\u001b[0m \u001b[1;33m**\u001b[0m\u001b[0mpasskwargs\u001b[0m\u001b[1;33m)\u001b[0m\u001b[1;33m\u001b[0m\u001b[1;33m\u001b[0m\u001b[0m\n\u001b[0m\u001b[0;32m     88\u001b[0m \u001b[1;33m\u001b[0m\u001b[0m\n\u001b[0;32m     89\u001b[0m \u001b[1;33m\u001b[0m\u001b[0m\n",
      "\u001b[1;31mKeyboardInterrupt\u001b[0m: "
     ]
    }
   ],
   "source": [
    "env = FrozenLakeEnv(desc=MAPS[\"16x16\"])\n",
    "episodes = [1e4, 1e5, 1e6]\n",
    "decays = [1e-3, 1e-5]\n",
    "q_dict16 = train_and_test_q_learning(env, discount= [0.9999], total_episodes=episodes,\n",
    "                          alphas=[0.1, 0.01], decay_rates=decays)"
   ]
  },
  {
   "cell_type": "code",
   "execution_count": null,
   "metadata": {},
   "outputs": [],
   "source": [
    "pol = q_dict16[0.9999][int(1e6)][0.1][1e-05]['policy']\n",
    "see_policy(16, pol)"
   ]
  },
  {
   "cell_type": "code",
   "execution_count": null,
   "metadata": {},
   "outputs": [],
   "source": [
    "(q_dict16[0.9999][int(1e6)][0.1][1e-05]['q-table'] > 0).any()"
   ]
  },
  {
   "cell_type": "code",
   "execution_count": null,
   "metadata": {},
   "outputs": [],
   "source": [
    "q16 = dict_to_df(q_dict16)\n",
    "q16"
   ]
  },
  {
   "cell_type": "code",
   "execution_count": null,
   "metadata": {},
   "outputs": [],
   "source": []
  },
  {
   "cell_type": "code",
   "execution_count": null,
   "metadata": {},
   "outputs": [],
   "source": []
  }
 ],
 "metadata": {
  "kernelspec": {
   "display_name": "Python 3",
   "language": "python",
   "name": "python3"
  },
  "language_info": {
   "codemirror_mode": {
    "name": "ipython",
    "version": 3
   },
   "file_extension": ".py",
   "mimetype": "text/x-python",
   "name": "python",
   "nbconvert_exporter": "python",
   "pygments_lexer": "ipython3",
   "version": "3.8.5"
  },
  "pycharm": {
   "stem_cell": {
    "cell_type": "raw",
    "metadata": {
     "collapsed": false
    },
    "source": []
   }
  }
 },
 "nbformat": 4,
 "nbformat_minor": 4
}
